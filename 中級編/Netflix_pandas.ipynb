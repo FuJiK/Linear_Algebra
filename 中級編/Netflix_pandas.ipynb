{
 "cells": [
  {
   "cell_type": "code",
   "execution_count": 1,
   "metadata": {},
   "outputs": [],
   "source": [
    "import pandas as pd"
   ]
  },
  {
   "cell_type": "code",
   "execution_count": 2,
   "metadata": {},
   "outputs": [],
   "source": [
    "netflix = pd.read_csv(\"../Kaggle/archive/netflix_titles.csv\")"
   ]
  },
  {
   "cell_type": "code",
   "execution_count": 4,
   "metadata": {},
   "outputs": [
    {
     "output_type": "execute_result",
     "data": {
      "text/plain": [
       "    show_id     type                                    title  \\\n",
       "0  81145628    Movie  Norm of the North: King Sized Adventure   \n",
       "1  80117401    Movie               Jandino: Whatever it Takes   \n",
       "2  70234439  TV Show                       Transformers Prime   \n",
       "3  80058654  TV Show         Transformers: Robots in Disguise   \n",
       "4  80125979    Movie                             #realityhigh   \n",
       "\n",
       "                   director  \\\n",
       "0  Richard Finn, Tim Maltby   \n",
       "1                       NaN   \n",
       "2                       NaN   \n",
       "3                       NaN   \n",
       "4          Fernando Lebrija   \n",
       "\n",
       "                                                cast  \\\n",
       "0  Alan Marriott, Andrew Toth, Brian Dobson, Cole...   \n",
       "1                                   Jandino Asporaat   \n",
       "2  Peter Cullen, Sumalee Montano, Frank Welker, J...   \n",
       "3  Will Friedle, Darren Criss, Constance Zimmer, ...   \n",
       "4  Nesta Cooper, Kate Walsh, John Michael Higgins...   \n",
       "\n",
       "                                    country         date_added  release_year  \\\n",
       "0  United States, India, South Korea, China  September 9, 2019          2019   \n",
       "1                            United Kingdom  September 9, 2016          2016   \n",
       "2                             United States  September 8, 2018          2013   \n",
       "3                             United States  September 8, 2018          2016   \n",
       "4                             United States  September 8, 2017          2017   \n",
       "\n",
       "     rating  duration                           listed_in  \\\n",
       "0     TV-PG    90 min  Children & Family Movies, Comedies   \n",
       "1     TV-MA    94 min                     Stand-Up Comedy   \n",
       "2  TV-Y7-FV  1 Season                            Kids' TV   \n",
       "3     TV-Y7  1 Season                            Kids' TV   \n",
       "4     TV-14    99 min                            Comedies   \n",
       "\n",
       "                                         description  \n",
       "0  Before planning an awesome wedding for his gra...  \n",
       "1  Jandino Asporaat riffs on the challenges of ra...  \n",
       "2  With the help of three human allies, the Autob...  \n",
       "3  When a prison ship crash unleashes hundreds of...  \n",
       "4  When nerdy high schooler Dani finally attracts...  "
      ],
      "text/html": "<div>\n<style scoped>\n    .dataframe tbody tr th:only-of-type {\n        vertical-align: middle;\n    }\n\n    .dataframe tbody tr th {\n        vertical-align: top;\n    }\n\n    .dataframe thead th {\n        text-align: right;\n    }\n</style>\n<table border=\"1\" class=\"dataframe\">\n  <thead>\n    <tr style=\"text-align: right;\">\n      <th></th>\n      <th>show_id</th>\n      <th>type</th>\n      <th>title</th>\n      <th>director</th>\n      <th>cast</th>\n      <th>country</th>\n      <th>date_added</th>\n      <th>release_year</th>\n      <th>rating</th>\n      <th>duration</th>\n      <th>listed_in</th>\n      <th>description</th>\n    </tr>\n  </thead>\n  <tbody>\n    <tr>\n      <th>0</th>\n      <td>81145628</td>\n      <td>Movie</td>\n      <td>Norm of the North: King Sized Adventure</td>\n      <td>Richard Finn, Tim Maltby</td>\n      <td>Alan Marriott, Andrew Toth, Brian Dobson, Cole...</td>\n      <td>United States, India, South Korea, China</td>\n      <td>September 9, 2019</td>\n      <td>2019</td>\n      <td>TV-PG</td>\n      <td>90 min</td>\n      <td>Children &amp; Family Movies, Comedies</td>\n      <td>Before planning an awesome wedding for his gra...</td>\n    </tr>\n    <tr>\n      <th>1</th>\n      <td>80117401</td>\n      <td>Movie</td>\n      <td>Jandino: Whatever it Takes</td>\n      <td>NaN</td>\n      <td>Jandino Asporaat</td>\n      <td>United Kingdom</td>\n      <td>September 9, 2016</td>\n      <td>2016</td>\n      <td>TV-MA</td>\n      <td>94 min</td>\n      <td>Stand-Up Comedy</td>\n      <td>Jandino Asporaat riffs on the challenges of ra...</td>\n    </tr>\n    <tr>\n      <th>2</th>\n      <td>70234439</td>\n      <td>TV Show</td>\n      <td>Transformers Prime</td>\n      <td>NaN</td>\n      <td>Peter Cullen, Sumalee Montano, Frank Welker, J...</td>\n      <td>United States</td>\n      <td>September 8, 2018</td>\n      <td>2013</td>\n      <td>TV-Y7-FV</td>\n      <td>1 Season</td>\n      <td>Kids' TV</td>\n      <td>With the help of three human allies, the Autob...</td>\n    </tr>\n    <tr>\n      <th>3</th>\n      <td>80058654</td>\n      <td>TV Show</td>\n      <td>Transformers: Robots in Disguise</td>\n      <td>NaN</td>\n      <td>Will Friedle, Darren Criss, Constance Zimmer, ...</td>\n      <td>United States</td>\n      <td>September 8, 2018</td>\n      <td>2016</td>\n      <td>TV-Y7</td>\n      <td>1 Season</td>\n      <td>Kids' TV</td>\n      <td>When a prison ship crash unleashes hundreds of...</td>\n    </tr>\n    <tr>\n      <th>4</th>\n      <td>80125979</td>\n      <td>Movie</td>\n      <td>#realityhigh</td>\n      <td>Fernando Lebrija</td>\n      <td>Nesta Cooper, Kate Walsh, John Michael Higgins...</td>\n      <td>United States</td>\n      <td>September 8, 2017</td>\n      <td>2017</td>\n      <td>TV-14</td>\n      <td>99 min</td>\n      <td>Comedies</td>\n      <td>When nerdy high schooler Dani finally attracts...</td>\n    </tr>\n  </tbody>\n</table>\n</div>"
     },
     "metadata": {},
     "execution_count": 4
    }
   ],
   "source": [
    "netflix.head()"
   ]
  },
  {
   "cell_type": "code",
   "execution_count": 3,
   "metadata": {},
   "outputs": [
    {
     "output_type": "execute_result",
     "data": {
      "text/plain": [
       "    show_id   type                                    title  \\\n",
       "0  81145628  Movie  Norm of the North: King Sized Adventure   \n",
       "1  80117401  Movie               Jandino: Whatever it Takes   \n",
       "4  80125979  Movie                             #realityhigh   \n",
       "6  70304989  Movie                                 Automata   \n",
       "7  80164077  Movie       Fabrizio Copano: Solo pienso en mi   \n",
       "\n",
       "                          director  \\\n",
       "0         Richard Finn, Tim Maltby   \n",
       "1                              NaN   \n",
       "4                 Fernando Lebrija   \n",
       "6                      Gabe Ibáñez   \n",
       "7  Rodrigo Toro, Francisco Schultz   \n",
       "\n",
       "                                                cast  \\\n",
       "0  Alan Marriott, Andrew Toth, Brian Dobson, Cole...   \n",
       "1                                   Jandino Asporaat   \n",
       "4  Nesta Cooper, Kate Walsh, John Michael Higgins...   \n",
       "6  Antonio Banderas, Dylan McDermott, Melanie Gri...   \n",
       "7                                    Fabrizio Copano   \n",
       "\n",
       "                                    country         date_added  release_year  \\\n",
       "0  United States, India, South Korea, China  September 9, 2019          2019   \n",
       "1                            United Kingdom  September 9, 2016          2016   \n",
       "4                             United States  September 8, 2017          2017   \n",
       "6    Bulgaria, United States, Spain, Canada  September 8, 2017          2014   \n",
       "7                                     Chile  September 8, 2017          2017   \n",
       "\n",
       "  rating duration                                          listed_in  \\\n",
       "0  TV-PG   90 min                 Children & Family Movies, Comedies   \n",
       "1  TV-MA   94 min                                    Stand-Up Comedy   \n",
       "4  TV-14   99 min                                           Comedies   \n",
       "6      R  110 min  International Movies, Sci-Fi & Fantasy, Thrillers   \n",
       "7  TV-MA   60 min                                    Stand-Up Comedy   \n",
       "\n",
       "                                         description  \n",
       "0  Before planning an awesome wedding for his gra...  \n",
       "1  Jandino Asporaat riffs on the challenges of ra...  \n",
       "4  When nerdy high schooler Dani finally attracts...  \n",
       "6  In a dystopian future, an insurance adjuster f...  \n",
       "7  Fabrizio Copano takes audience participation t...  "
      ],
      "text/html": "<div>\n<style scoped>\n    .dataframe tbody tr th:only-of-type {\n        vertical-align: middle;\n    }\n\n    .dataframe tbody tr th {\n        vertical-align: top;\n    }\n\n    .dataframe thead th {\n        text-align: right;\n    }\n</style>\n<table border=\"1\" class=\"dataframe\">\n  <thead>\n    <tr style=\"text-align: right;\">\n      <th></th>\n      <th>show_id</th>\n      <th>type</th>\n      <th>title</th>\n      <th>director</th>\n      <th>cast</th>\n      <th>country</th>\n      <th>date_added</th>\n      <th>release_year</th>\n      <th>rating</th>\n      <th>duration</th>\n      <th>listed_in</th>\n      <th>description</th>\n    </tr>\n  </thead>\n  <tbody>\n    <tr>\n      <th>0</th>\n      <td>81145628</td>\n      <td>Movie</td>\n      <td>Norm of the North: King Sized Adventure</td>\n      <td>Richard Finn, Tim Maltby</td>\n      <td>Alan Marriott, Andrew Toth, Brian Dobson, Cole...</td>\n      <td>United States, India, South Korea, China</td>\n      <td>September 9, 2019</td>\n      <td>2019</td>\n      <td>TV-PG</td>\n      <td>90 min</td>\n      <td>Children &amp; Family Movies, Comedies</td>\n      <td>Before planning an awesome wedding for his gra...</td>\n    </tr>\n    <tr>\n      <th>1</th>\n      <td>80117401</td>\n      <td>Movie</td>\n      <td>Jandino: Whatever it Takes</td>\n      <td>NaN</td>\n      <td>Jandino Asporaat</td>\n      <td>United Kingdom</td>\n      <td>September 9, 2016</td>\n      <td>2016</td>\n      <td>TV-MA</td>\n      <td>94 min</td>\n      <td>Stand-Up Comedy</td>\n      <td>Jandino Asporaat riffs on the challenges of ra...</td>\n    </tr>\n    <tr>\n      <th>4</th>\n      <td>80125979</td>\n      <td>Movie</td>\n      <td>#realityhigh</td>\n      <td>Fernando Lebrija</td>\n      <td>Nesta Cooper, Kate Walsh, John Michael Higgins...</td>\n      <td>United States</td>\n      <td>September 8, 2017</td>\n      <td>2017</td>\n      <td>TV-14</td>\n      <td>99 min</td>\n      <td>Comedies</td>\n      <td>When nerdy high schooler Dani finally attracts...</td>\n    </tr>\n    <tr>\n      <th>6</th>\n      <td>70304989</td>\n      <td>Movie</td>\n      <td>Automata</td>\n      <td>Gabe Ibáñez</td>\n      <td>Antonio Banderas, Dylan McDermott, Melanie Gri...</td>\n      <td>Bulgaria, United States, Spain, Canada</td>\n      <td>September 8, 2017</td>\n      <td>2014</td>\n      <td>R</td>\n      <td>110 min</td>\n      <td>International Movies, Sci-Fi &amp; Fantasy, Thrillers</td>\n      <td>In a dystopian future, an insurance adjuster f...</td>\n    </tr>\n    <tr>\n      <th>7</th>\n      <td>80164077</td>\n      <td>Movie</td>\n      <td>Fabrizio Copano: Solo pienso en mi</td>\n      <td>Rodrigo Toro, Francisco Schultz</td>\n      <td>Fabrizio Copano</td>\n      <td>Chile</td>\n      <td>September 8, 2017</td>\n      <td>2017</td>\n      <td>TV-MA</td>\n      <td>60 min</td>\n      <td>Stand-Up Comedy</td>\n      <td>Fabrizio Copano takes audience participation t...</td>\n    </tr>\n  </tbody>\n</table>\n</div>"
     },
     "metadata": {},
     "execution_count": 3
    }
   ],
   "source": [
    "movies = netflix[\"type\"] == \"Movie\"\n",
    "netflix[movies].head()"
   ]
  },
  {
   "cell_type": "code",
   "execution_count": 5,
   "metadata": {},
   "outputs": [
    {
     "output_type": "execute_result",
     "data": {
      "text/plain": [
       "     show_id   type                                    title  \\\n",
       "0   81145628  Movie  Norm of the North: King Sized Adventure   \n",
       "1   80117401  Movie               Jandino: Whatever it Takes   \n",
       "4   80125979  Movie                             #realityhigh   \n",
       "7   80164077  Movie       Fabrizio Copano: Solo pienso en mi   \n",
       "10  80169755  Movie              Joaquín Reyes: Una y no más   \n",
       "\n",
       "                           director  \\\n",
       "0          Richard Finn, Tim Maltby   \n",
       "1                               NaN   \n",
       "4                  Fernando Lebrija   \n",
       "7   Rodrigo Toro, Francisco Schultz   \n",
       "10            José Miguel Contreras   \n",
       "\n",
       "                                                 cast  \\\n",
       "0   Alan Marriott, Andrew Toth, Brian Dobson, Cole...   \n",
       "1                                    Jandino Asporaat   \n",
       "4   Nesta Cooper, Kate Walsh, John Michael Higgins...   \n",
       "7                                     Fabrizio Copano   \n",
       "10                                      Joaquín Reyes   \n",
       "\n",
       "                                     country         date_added  release_year  \\\n",
       "0   United States, India, South Korea, China  September 9, 2019          2019   \n",
       "1                             United Kingdom  September 9, 2016          2016   \n",
       "4                              United States  September 8, 2017          2017   \n",
       "7                                      Chile  September 8, 2017          2017   \n",
       "10                                       NaN  September 8, 2017          2017   \n",
       "\n",
       "   rating duration                           listed_in  \\\n",
       "0   TV-PG   90 min  Children & Family Movies, Comedies   \n",
       "1   TV-MA   94 min                     Stand-Up Comedy   \n",
       "4   TV-14   99 min                            Comedies   \n",
       "7   TV-MA   60 min                     Stand-Up Comedy   \n",
       "10  TV-MA   78 min                     Stand-Up Comedy   \n",
       "\n",
       "                                          description  \n",
       "0   Before planning an awesome wedding for his gra...  \n",
       "1   Jandino Asporaat riffs on the challenges of ra...  \n",
       "4   When nerdy high schooler Dani finally attracts...  \n",
       "7   Fabrizio Copano takes audience participation t...  \n",
       "10  Comedian and celebrity impersonator Joaquín Re...  "
      ],
      "text/html": "<div>\n<style scoped>\n    .dataframe tbody tr th:only-of-type {\n        vertical-align: middle;\n    }\n\n    .dataframe tbody tr th {\n        vertical-align: top;\n    }\n\n    .dataframe thead th {\n        text-align: right;\n    }\n</style>\n<table border=\"1\" class=\"dataframe\">\n  <thead>\n    <tr style=\"text-align: right;\">\n      <th></th>\n      <th>show_id</th>\n      <th>type</th>\n      <th>title</th>\n      <th>director</th>\n      <th>cast</th>\n      <th>country</th>\n      <th>date_added</th>\n      <th>release_year</th>\n      <th>rating</th>\n      <th>duration</th>\n      <th>listed_in</th>\n      <th>description</th>\n    </tr>\n  </thead>\n  <tbody>\n    <tr>\n      <th>0</th>\n      <td>81145628</td>\n      <td>Movie</td>\n      <td>Norm of the North: King Sized Adventure</td>\n      <td>Richard Finn, Tim Maltby</td>\n      <td>Alan Marriott, Andrew Toth, Brian Dobson, Cole...</td>\n      <td>United States, India, South Korea, China</td>\n      <td>September 9, 2019</td>\n      <td>2019</td>\n      <td>TV-PG</td>\n      <td>90 min</td>\n      <td>Children &amp; Family Movies, Comedies</td>\n      <td>Before planning an awesome wedding for his gra...</td>\n    </tr>\n    <tr>\n      <th>1</th>\n      <td>80117401</td>\n      <td>Movie</td>\n      <td>Jandino: Whatever it Takes</td>\n      <td>NaN</td>\n      <td>Jandino Asporaat</td>\n      <td>United Kingdom</td>\n      <td>September 9, 2016</td>\n      <td>2016</td>\n      <td>TV-MA</td>\n      <td>94 min</td>\n      <td>Stand-Up Comedy</td>\n      <td>Jandino Asporaat riffs on the challenges of ra...</td>\n    </tr>\n    <tr>\n      <th>4</th>\n      <td>80125979</td>\n      <td>Movie</td>\n      <td>#realityhigh</td>\n      <td>Fernando Lebrija</td>\n      <td>Nesta Cooper, Kate Walsh, John Michael Higgins...</td>\n      <td>United States</td>\n      <td>September 8, 2017</td>\n      <td>2017</td>\n      <td>TV-14</td>\n      <td>99 min</td>\n      <td>Comedies</td>\n      <td>When nerdy high schooler Dani finally attracts...</td>\n    </tr>\n    <tr>\n      <th>7</th>\n      <td>80164077</td>\n      <td>Movie</td>\n      <td>Fabrizio Copano: Solo pienso en mi</td>\n      <td>Rodrigo Toro, Francisco Schultz</td>\n      <td>Fabrizio Copano</td>\n      <td>Chile</td>\n      <td>September 8, 2017</td>\n      <td>2017</td>\n      <td>TV-MA</td>\n      <td>60 min</td>\n      <td>Stand-Up Comedy</td>\n      <td>Fabrizio Copano takes audience participation t...</td>\n    </tr>\n    <tr>\n      <th>10</th>\n      <td>80169755</td>\n      <td>Movie</td>\n      <td>Joaquín Reyes: Una y no más</td>\n      <td>José Miguel Contreras</td>\n      <td>Joaquín Reyes</td>\n      <td>NaN</td>\n      <td>September 8, 2017</td>\n      <td>2017</td>\n      <td>TV-MA</td>\n      <td>78 min</td>\n      <td>Stand-Up Comedy</td>\n      <td>Comedian and celebrity impersonator Joaquín Re...</td>\n    </tr>\n  </tbody>\n</table>\n</div>"
     },
     "metadata": {},
     "execution_count": 5
    }
   ],
   "source": [
    "# 正規表現\n",
    "comedies = netflix[\"listed_in\"].str.contains(r'Comed.*')\n",
    "netflix[comedies].head()"
   ]
  },
  {
   "cell_type": "code",
   "execution_count": 6,
   "metadata": {},
   "outputs": [
    {
     "output_type": "execute_result",
     "data": {
      "text/plain": [
       "      show_id   type                        title         director  \\\n",
       "301   1151375  Movie                 Dante's Peak  Roger Donaldson   \n",
       "326   1153194  Movie                    The Saint    Phillip Noyce   \n",
       "346  70055221  Movie           Solo Con Tu Pareja   Alfonso Cuarón   \n",
       "353  17672040  Movie               The River Wild    Curtis Hanson   \n",
       "610  80236356  Movie  Monty Python: Live at Aspen              NaN   \n",
       "\n",
       "                                                  cast        country  \\\n",
       "301  Pierce Brosnan, Linda Hamilton, Elizabeth Hoff...  United States   \n",
       "326  Val Kilmer, Elisabeth Shue, Rade Serbedzija, V...  United States   \n",
       "346  Luis de Icaza, Dobrina Liubomirova, Isabel Ben...         Mexico   \n",
       "353  Meryl Streep, Kevin Bacon, David Strathairn, J...  United States   \n",
       "610  Robert Klein, John Cleese, Terry Gilliam, Eric...  United States   \n",
       "\n",
       "            date_added  release_year rating duration  \\\n",
       "301  September 1, 2019          1997  PG-13  108 min   \n",
       "326  September 1, 2019          1997  PG-13  116 min   \n",
       "346  September 1, 2018          1991     NR   94 min   \n",
       "353  September 1, 2018          1994  PG-13  111 min   \n",
       "610    October 2, 2018          1998  TV-MA   58 min   \n",
       "\n",
       "                                             listed_in  \\\n",
       "301                                 Action & Adventure   \n",
       "326                Action & Adventure, Romantic Movies   \n",
       "346  Comedies, Independent Movies, International Mo...   \n",
       "353                                 Action & Adventure   \n",
       "610                            Comedies, Documentaries   \n",
       "\n",
       "                                           description  \n",
       "301  When a volcanologist comes to investigate the ...  \n",
       "326  Hired by a Russian politician to steal the for...  \n",
       "346  A yuppie playboy looks for a quick death after...  \n",
       "353  A turbulent vacation turns deadly when a fugit...  \n",
       "610  The members of Monty Python reunite on stage t...  "
      ],
      "text/html": "<div>\n<style scoped>\n    .dataframe tbody tr th:only-of-type {\n        vertical-align: middle;\n    }\n\n    .dataframe tbody tr th {\n        vertical-align: top;\n    }\n\n    .dataframe thead th {\n        text-align: right;\n    }\n</style>\n<table border=\"1\" class=\"dataframe\">\n  <thead>\n    <tr style=\"text-align: right;\">\n      <th></th>\n      <th>show_id</th>\n      <th>type</th>\n      <th>title</th>\n      <th>director</th>\n      <th>cast</th>\n      <th>country</th>\n      <th>date_added</th>\n      <th>release_year</th>\n      <th>rating</th>\n      <th>duration</th>\n      <th>listed_in</th>\n      <th>description</th>\n    </tr>\n  </thead>\n  <tbody>\n    <tr>\n      <th>301</th>\n      <td>1151375</td>\n      <td>Movie</td>\n      <td>Dante's Peak</td>\n      <td>Roger Donaldson</td>\n      <td>Pierce Brosnan, Linda Hamilton, Elizabeth Hoff...</td>\n      <td>United States</td>\n      <td>September 1, 2019</td>\n      <td>1997</td>\n      <td>PG-13</td>\n      <td>108 min</td>\n      <td>Action &amp; Adventure</td>\n      <td>When a volcanologist comes to investigate the ...</td>\n    </tr>\n    <tr>\n      <th>326</th>\n      <td>1153194</td>\n      <td>Movie</td>\n      <td>The Saint</td>\n      <td>Phillip Noyce</td>\n      <td>Val Kilmer, Elisabeth Shue, Rade Serbedzija, V...</td>\n      <td>United States</td>\n      <td>September 1, 2019</td>\n      <td>1997</td>\n      <td>PG-13</td>\n      <td>116 min</td>\n      <td>Action &amp; Adventure, Romantic Movies</td>\n      <td>Hired by a Russian politician to steal the for...</td>\n    </tr>\n    <tr>\n      <th>346</th>\n      <td>70055221</td>\n      <td>Movie</td>\n      <td>Solo Con Tu Pareja</td>\n      <td>Alfonso Cuarón</td>\n      <td>Luis de Icaza, Dobrina Liubomirova, Isabel Ben...</td>\n      <td>Mexico</td>\n      <td>September 1, 2018</td>\n      <td>1991</td>\n      <td>NR</td>\n      <td>94 min</td>\n      <td>Comedies, Independent Movies, International Mo...</td>\n      <td>A yuppie playboy looks for a quick death after...</td>\n    </tr>\n    <tr>\n      <th>353</th>\n      <td>17672040</td>\n      <td>Movie</td>\n      <td>The River Wild</td>\n      <td>Curtis Hanson</td>\n      <td>Meryl Streep, Kevin Bacon, David Strathairn, J...</td>\n      <td>United States</td>\n      <td>September 1, 2018</td>\n      <td>1994</td>\n      <td>PG-13</td>\n      <td>111 min</td>\n      <td>Action &amp; Adventure</td>\n      <td>A turbulent vacation turns deadly when a fugit...</td>\n    </tr>\n    <tr>\n      <th>610</th>\n      <td>80236356</td>\n      <td>Movie</td>\n      <td>Monty Python: Live at Aspen</td>\n      <td>NaN</td>\n      <td>Robert Klein, John Cleese, Terry Gilliam, Eric...</td>\n      <td>United States</td>\n      <td>October 2, 2018</td>\n      <td>1998</td>\n      <td>TV-MA</td>\n      <td>58 min</td>\n      <td>Comedies, Documentaries</td>\n      <td>The members of Monty Python reunite on stage t...</td>\n    </tr>\n  </tbody>\n</table>\n</div>"
     },
     "metadata": {},
     "execution_count": 6
    }
   ],
   "source": [
    "made_in_nineties = netflix[\"release_year\"].between(1990,1999)\n",
    "netflix[made_in_nineties].head()"
   ]
  },
  {
   "cell_type": "code",
   "execution_count": 7,
   "metadata": {},
   "outputs": [
    {
     "output_type": "execute_result",
     "data": {
      "text/plain": [
       "      show_id   type                             title             director  \\\n",
       "346  70055221  Movie                Solo Con Tu Pareja       Alfonso Cuarón   \n",
       "610  80236356  Movie       Monty Python: Live at Aspen                  NaN   \n",
       "622  60001650  Movie                      Men in Black     Barry Sonnenfeld   \n",
       "781    269880  Movie                          Bad Boys          Michael Bay   \n",
       "794  81168345  Movie  Escape from the \"Liberty\" Cinema  Wojciech Marczewski   \n",
       "\n",
       "                                                  cast        country  \\\n",
       "346  Luis de Icaza, Dobrina Liubomirova, Isabel Ben...         Mexico   \n",
       "610  Robert Klein, John Cleese, Terry Gilliam, Eric...  United States   \n",
       "622  Tommy Lee Jones, Will Smith, Linda Fiorentino,...  United States   \n",
       "781  Will Smith, Martin Lawrence, Téa Leoni, Tchéky...  United States   \n",
       "794  Janusz Gajos, Zbigniew Zamachowski, Teresa Mar...         Poland   \n",
       "\n",
       "            date_added  release_year rating duration  \\\n",
       "346  September 1, 2018          1991     NR   94 min   \n",
       "610    October 2, 2018          1998  TV-MA   58 min   \n",
       "622   October 19, 2019          1997  PG-13   98 min   \n",
       "781    October 1, 2019          1995      R  119 min   \n",
       "794    October 1, 2019          1990  TV-MA   88 min   \n",
       "\n",
       "                                             listed_in  \\\n",
       "346  Comedies, Independent Movies, International Mo...   \n",
       "610                            Comedies, Documentaries   \n",
       "622     Action & Adventure, Comedies, Sci-Fi & Fantasy   \n",
       "781                       Action & Adventure, Comedies   \n",
       "794               Comedies, Dramas, Independent Movies   \n",
       "\n",
       "                                           description  \n",
       "346  A yuppie playboy looks for a quick death after...  \n",
       "610  The members of Monty Python reunite on stage t...  \n",
       "622  A streetwise cop teams with a veteran governme...  \n",
       "781  In this fast-paced actioner, two Miami narcoti...  \n",
       "794  Artistic rebellion ignites at the movies when ...  "
      ],
      "text/html": "<div>\n<style scoped>\n    .dataframe tbody tr th:only-of-type {\n        vertical-align: middle;\n    }\n\n    .dataframe tbody tr th {\n        vertical-align: top;\n    }\n\n    .dataframe thead th {\n        text-align: right;\n    }\n</style>\n<table border=\"1\" class=\"dataframe\">\n  <thead>\n    <tr style=\"text-align: right;\">\n      <th></th>\n      <th>show_id</th>\n      <th>type</th>\n      <th>title</th>\n      <th>director</th>\n      <th>cast</th>\n      <th>country</th>\n      <th>date_added</th>\n      <th>release_year</th>\n      <th>rating</th>\n      <th>duration</th>\n      <th>listed_in</th>\n      <th>description</th>\n    </tr>\n  </thead>\n  <tbody>\n    <tr>\n      <th>346</th>\n      <td>70055221</td>\n      <td>Movie</td>\n      <td>Solo Con Tu Pareja</td>\n      <td>Alfonso Cuarón</td>\n      <td>Luis de Icaza, Dobrina Liubomirova, Isabel Ben...</td>\n      <td>Mexico</td>\n      <td>September 1, 2018</td>\n      <td>1991</td>\n      <td>NR</td>\n      <td>94 min</td>\n      <td>Comedies, Independent Movies, International Mo...</td>\n      <td>A yuppie playboy looks for a quick death after...</td>\n    </tr>\n    <tr>\n      <th>610</th>\n      <td>80236356</td>\n      <td>Movie</td>\n      <td>Monty Python: Live at Aspen</td>\n      <td>NaN</td>\n      <td>Robert Klein, John Cleese, Terry Gilliam, Eric...</td>\n      <td>United States</td>\n      <td>October 2, 2018</td>\n      <td>1998</td>\n      <td>TV-MA</td>\n      <td>58 min</td>\n      <td>Comedies, Documentaries</td>\n      <td>The members of Monty Python reunite on stage t...</td>\n    </tr>\n    <tr>\n      <th>622</th>\n      <td>60001650</td>\n      <td>Movie</td>\n      <td>Men in Black</td>\n      <td>Barry Sonnenfeld</td>\n      <td>Tommy Lee Jones, Will Smith, Linda Fiorentino,...</td>\n      <td>United States</td>\n      <td>October 19, 2019</td>\n      <td>1997</td>\n      <td>PG-13</td>\n      <td>98 min</td>\n      <td>Action &amp; Adventure, Comedies, Sci-Fi &amp; Fantasy</td>\n      <td>A streetwise cop teams with a veteran governme...</td>\n    </tr>\n    <tr>\n      <th>781</th>\n      <td>269880</td>\n      <td>Movie</td>\n      <td>Bad Boys</td>\n      <td>Michael Bay</td>\n      <td>Will Smith, Martin Lawrence, Téa Leoni, Tchéky...</td>\n      <td>United States</td>\n      <td>October 1, 2019</td>\n      <td>1995</td>\n      <td>R</td>\n      <td>119 min</td>\n      <td>Action &amp; Adventure, Comedies</td>\n      <td>In this fast-paced actioner, two Miami narcoti...</td>\n    </tr>\n    <tr>\n      <th>794</th>\n      <td>81168345</td>\n      <td>Movie</td>\n      <td>Escape from the \"Liberty\" Cinema</td>\n      <td>Wojciech Marczewski</td>\n      <td>Janusz Gajos, Zbigniew Zamachowski, Teresa Mar...</td>\n      <td>Poland</td>\n      <td>October 1, 2019</td>\n      <td>1990</td>\n      <td>TV-MA</td>\n      <td>88 min</td>\n      <td>Comedies, Dramas, Independent Movies</td>\n      <td>Artistic rebellion ignites at the movies when ...</td>\n    </tr>\n  </tbody>\n</table>\n</div>"
     },
     "metadata": {},
     "execution_count": 7
    }
   ],
   "source": [
    "# And 検索\n",
    "netflix[movies & comedies & made_in_nineties].head()"
   ]
  },
  {
   "cell_type": "code",
   "execution_count": 8,
   "metadata": {},
   "outputs": [
    {
     "output_type": "execute_result",
     "data": {
      "text/plain": [
       "       show_id   type                                    title  \\\n",
       "3590  60033108  Movie                                  Tremors   \n",
       "794   81168345  Movie         Escape from the \"Liberty\" Cinema   \n",
       "4975  70014531  Movie                        Look Out, Officer   \n",
       "3568   1029730  Movie  Teenage Mutant Ninja Turtles: The Movie   \n",
       "4263  81045509  Movie                  Tim Allen: Men Are Pigs   \n",
       "\n",
       "                 director                                               cast  \\\n",
       "3590        Ron Underwood  Kevin Bacon, Fred Ward, Finn Carter, Michael G...   \n",
       "794   Wojciech Marczewski  Janusz Gajos, Zbigniew Zamachowski, Teresa Mar...   \n",
       "4975           Sze Yu Lau  Stephen Chow, Bill Tung, Stanley Sui-Fan Fung,...   \n",
       "3568         Steve Barron  Judith Hoag, Elias Koteas, Josh Pais, Michelan...   \n",
       "4263          Ellen Brown                                          Tim Allen   \n",
       "\n",
       "            country         date_added  release_year rating duration  \\\n",
       "3590  United States    January 1, 2020          1990  PG-13   96 min   \n",
       "794          Poland    October 1, 2019          1990  TV-MA   88 min   \n",
       "4975      Hong Kong    August 16, 2018          1990  TV-MA   88 min   \n",
       "3568            NaN    January 1, 2020          1990     PG   94 min   \n",
       "4263  United States  December 31, 2018          1990  TV-14   30 min   \n",
       "\n",
       "                                              listed_in  \\\n",
       "3590               Comedies, Cult Movies, Horror Movies   \n",
       "794                Comedies, Dramas, Independent Movies   \n",
       "4975  Action & Adventure, Comedies, International Mo...   \n",
       "3568                       Action & Adventure, Comedies   \n",
       "4263                                    Stand-Up Comedy   \n",
       "\n",
       "                                            description  \n",
       "3590  After a seismologist gets unusual readings on ...  \n",
       "794   Artistic rebellion ignites at the movies when ...  \n",
       "4975  An officer killed on the job returns to Earth ...  \n",
       "3568  After exposure to a strange, glowing ooze, fou...  \n",
       "4263  Standup comedian Tim Allen delivers a set dedi...  "
      ],
      "text/html": "<div>\n<style scoped>\n    .dataframe tbody tr th:only-of-type {\n        vertical-align: middle;\n    }\n\n    .dataframe tbody tr th {\n        vertical-align: top;\n    }\n\n    .dataframe thead th {\n        text-align: right;\n    }\n</style>\n<table border=\"1\" class=\"dataframe\">\n  <thead>\n    <tr style=\"text-align: right;\">\n      <th></th>\n      <th>show_id</th>\n      <th>type</th>\n      <th>title</th>\n      <th>director</th>\n      <th>cast</th>\n      <th>country</th>\n      <th>date_added</th>\n      <th>release_year</th>\n      <th>rating</th>\n      <th>duration</th>\n      <th>listed_in</th>\n      <th>description</th>\n    </tr>\n  </thead>\n  <tbody>\n    <tr>\n      <th>3590</th>\n      <td>60033108</td>\n      <td>Movie</td>\n      <td>Tremors</td>\n      <td>Ron Underwood</td>\n      <td>Kevin Bacon, Fred Ward, Finn Carter, Michael G...</td>\n      <td>United States</td>\n      <td>January 1, 2020</td>\n      <td>1990</td>\n      <td>PG-13</td>\n      <td>96 min</td>\n      <td>Comedies, Cult Movies, Horror Movies</td>\n      <td>After a seismologist gets unusual readings on ...</td>\n    </tr>\n    <tr>\n      <th>794</th>\n      <td>81168345</td>\n      <td>Movie</td>\n      <td>Escape from the \"Liberty\" Cinema</td>\n      <td>Wojciech Marczewski</td>\n      <td>Janusz Gajos, Zbigniew Zamachowski, Teresa Mar...</td>\n      <td>Poland</td>\n      <td>October 1, 2019</td>\n      <td>1990</td>\n      <td>TV-MA</td>\n      <td>88 min</td>\n      <td>Comedies, Dramas, Independent Movies</td>\n      <td>Artistic rebellion ignites at the movies when ...</td>\n    </tr>\n    <tr>\n      <th>4975</th>\n      <td>70014531</td>\n      <td>Movie</td>\n      <td>Look Out, Officer</td>\n      <td>Sze Yu Lau</td>\n      <td>Stephen Chow, Bill Tung, Stanley Sui-Fan Fung,...</td>\n      <td>Hong Kong</td>\n      <td>August 16, 2018</td>\n      <td>1990</td>\n      <td>TV-MA</td>\n      <td>88 min</td>\n      <td>Action &amp; Adventure, Comedies, International Mo...</td>\n      <td>An officer killed on the job returns to Earth ...</td>\n    </tr>\n    <tr>\n      <th>3568</th>\n      <td>1029730</td>\n      <td>Movie</td>\n      <td>Teenage Mutant Ninja Turtles: The Movie</td>\n      <td>Steve Barron</td>\n      <td>Judith Hoag, Elias Koteas, Josh Pais, Michelan...</td>\n      <td>NaN</td>\n      <td>January 1, 2020</td>\n      <td>1990</td>\n      <td>PG</td>\n      <td>94 min</td>\n      <td>Action &amp; Adventure, Comedies</td>\n      <td>After exposure to a strange, glowing ooze, fou...</td>\n    </tr>\n    <tr>\n      <th>4263</th>\n      <td>81045509</td>\n      <td>Movie</td>\n      <td>Tim Allen: Men Are Pigs</td>\n      <td>Ellen Brown</td>\n      <td>Tim Allen</td>\n      <td>United States</td>\n      <td>December 31, 2018</td>\n      <td>1990</td>\n      <td>TV-14</td>\n      <td>30 min</td>\n      <td>Stand-Up Comedy</td>\n      <td>Standup comedian Tim Allen delivers a set dedi...</td>\n    </tr>\n  </tbody>\n</table>\n</div>"
     },
     "metadata": {},
     "execution_count": 8
    }
   ],
   "source": [
    "# Sort　降順\n",
    "netflix[movies & comedies & made_in_nineties].sort_values(\"release_year\").head()"
   ]
  },
  {
   "cell_type": "code",
   "execution_count": null,
   "metadata": {},
   "outputs": [],
   "source": []
  }
 ],
 "metadata": {
  "kernelspec": {
   "display_name": "Python 3",
   "language": "python",
   "name": "python3"
  },
  "language_info": {
   "codemirror_mode": {
    "name": "ipython",
    "version": 3
   },
   "file_extension": ".py",
   "mimetype": "text/x-python",
   "name": "python",
   "nbconvert_exporter": "python",
   "pygments_lexer": "ipython3",
   "version": "3.7.1-final"
  }
 },
 "nbformat": 4,
 "nbformat_minor": 2
}